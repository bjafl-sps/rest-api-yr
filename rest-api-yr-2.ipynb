{
 "cells": [
  {
   "cell_type": "markdown",
   "id": "d4ba5e72",
   "metadata": {},
   "source": [
    "# DEL 2 API fra yr.no"
   ]
  },
  {
   "cell_type": "code",
   "execution_count": null,
   "id": "b42a40bb",
   "metadata": {},
   "outputs": [],
   "source": [
    "# Importer bibliotekene vi trenger\n",
    "import requests\n",
    "import json\n",
    "import pandas as pd\n",
    "from datetime import datetime\n",
    "\n",
    "# For automatiske tester trenger vi pytest og ipytest\n",
    "import ipytest\n",
    "ipytest.autoconfig()"
   ]
  },
  {
   "cell_type": "markdown",
   "id": "37840953",
   "metadata": {},
   "source": [
    "## Oppgave 3: Introduksjon til Yr.no API\n",
    "\n",
    "Nå skal vi begynne å arbeide med ekte værdata! Yr.no tilbyr gratis værdata gjennom sitt API.\n",
    "\n",
    "**API dokumentasjon:** https://api.met.no/weatherapi/locationforecast/2.0/documentation\n",
    "Gå inn på lenken over og ha denne tilgjengelig mens du jobber videre. Siden inneholder API-spesifiksjonen, og forteller utviklere hvordan de kan bruke yr sin locationforecast api. \n",
    "\n",
    "**Base-adresse:** REST APIer bruker å ha en base-adresse, som kommer først for alle uri-er knyttet til APIet. \n",
    "For locations apiet til yr er baseadressen `https://api.met.no/weatherapi/locationforecast/2.0/`. Ofte, som her,\n",
    "inkluderer base-uri et versjonsnummer. Slik kan APIet oppdateres samtidig som den gamle versjonen er tilgjengelig,\n",
    "slik at utviklere har tid til å oppdatere sine programmer til å støtte spesifikasjon i ny versjon av APIet.\n",
    "\n",
    "> Yr har flere APIer som du kan utforske på https://api.met.no\n",
    "> Vi skal bruke loactionforecast som eksempel her\n",
    "\n",
    "La oss prøve et enkelt kall til APIet, med uri `https://api.met.no/weatherapi/locationforecast/2.0/status`. \n",
    "Dette skal gi oss en status-beskjed, og kan brukes for å sjekke om vi klarer å koble oss opp mot APIet."
   ]
  },
  {
   "cell_type": "code",
   "execution_count": null,
   "id": "6c2d0609",
   "metadata": {},
   "outputs": [],
   "source": [
    "response_3a = requests.get('https://api.met.no/weatherapi/locationforecast/2.0/status')\n",
    "print(\"Status kode:\", response_3a.status_code)"
   ]
  },
  {
   "cell_type": "markdown",
   "id": "6d94dd04",
   "metadata": {},
   "source": [
    "Oops.. Her fikk vi en feil statuskode - 403\n",
    "\n",
    "---\n",
    "\n",
    "### Oppgave 3a\n",
    "Hva betyr denne statuskoden?"
   ]
  },
  {
   "cell_type": "markdown",
   "id": "6af51e12",
   "metadata": {},
   "source": [
    "_Skriv svaret ditt her_"
   ]
  },
  {
   "cell_type": "markdown",
   "id": "71c0f681",
   "metadata": {},
   "source": [
    "---\n",
    "\n",
    "Hvis vi ser i dokumentasjonen, står det i delen \n",
    "[AUTHENTICATION](https://api.met.no/weatherapi/locationforecast/2.0/documentation#AUTHENTICATION) \n",
    "at en er nødt til å bruke en unik identifikator i User-Agent header-verdi for at ikke forespørselen\n",
    "skal avvises.\n",
    "\n",
    "La oss sjekke hvordan våre header-verdier så ut fra requesten vi sendte over\n",
    "\n",
    "> Tips:\n",
    "> Informasjon om sendte forespørsler kan hentes ut fra respons-variabelen\n",
    "> med egenskapen `request` (eks: `respons_variabel.request`)"
   ]
  },
  {
   "cell_type": "code",
   "execution_count": null,
   "id": "6fe5154d",
   "metadata": {},
   "outputs": [],
   "source": [
    "# Her skriver vi ut headere som ble sendt med forespørselen\n",
    "# Kjør cellen og se på output\n",
    "print(\"\\nRequest headers:\")\n",
    "request_headers = response_3a.request.headers\n",
    "for key, value in request_headers.items():\n",
    "    print(f\"{key}: {value}\")"
   ]
  },
  {
   "cell_type": "markdown",
   "id": "006a87e7",
   "metadata": {},
   "source": [
    "---\n",
    "\n",
    "### Oppgave 3b\n",
    "\n",
    "Hva er verdien til headeren _User-Agent_?"
   ]
  },
  {
   "cell_type": "markdown",
   "id": "b9efc146",
   "metadata": {},
   "source": [
    "_Skriv svaret ditt her_"
   ]
  },
  {
   "cell_type": "markdown",
   "id": "fd9ef94a",
   "metadata": {},
   "source": [
    "---\n",
    "\n",
    "Verdien på _User-Agent_ oppfyller ikke vilkårene til i API-spesifikasjonen. La oss prøve igjen der vi setter en unik verdi for User-Agent:"
   ]
  },
  {
   "cell_type": "code",
   "execution_count": null,
   "id": "1b063f31",
   "metadata": {},
   "outputs": [],
   "source": [
    "# Kjør cellen under for å gjøre et nytt kall med en gyldig User-Agent header\n",
    "\n",
    "# Sett en unik User-Agent header som beskrevet i dokumentasjonen\n",
    "headers = {\n",
    "    'User-Agent': 'TestApp/1.0 (it-test@sanpro.no)'\n",
    "}\n",
    "\n",
    "# Gjør forespørselen med de nye headerne\n",
    "response = requests.get('https://api.met.no/weatherapi/locationforecast/2.0/status', headers=headers)\n",
    "\n",
    "print(\"Status kode:\", response.status_code)\n",
    "\n",
    "# Skriv ut headere som ble sendt med forespørselen\n",
    "print(\"\\nRequest headers:\")\n",
    "print(json.dumps(dict(response.request.headers), indent=2))\n",
    "\n",
    "# Hvis statuskoden er 200 (ok), skriv ut JSON-responsen\n",
    "if response.status_code == 200:\n",
    "    data = response.json()\n",
    "    print(\"\\nRespons data:\")\n",
    "    print(json.dumps(data, indent=2))\n",
    "else:\n",
    "    print(\"Noe gikk galt med forespørselen.\")"
   ]
  },
  {
   "cell_type": "markdown",
   "id": "ab8dc217",
   "metadata": {},
   "source": [
    "Nå fikk vi et gyldig svar! \n",
    "\n",
    "---\n",
    "\n",
    "### Oppgave 3c\n",
    "\n",
    "Hva inneholdt responsen av data?"
   ]
  },
  {
   "cell_type": "markdown",
   "id": "6052164a",
   "metadata": {},
   "source": [
    "_Skriv svaret ditt her_"
   ]
  },
  {
   "cell_type": "markdown",
   "id": "c632c565",
   "metadata": {},
   "source": [
    "---\n",
    "\n",
    "> Tips ISO 8601\n",
    "> Les om standarden ISO 8601 for dato og tid formatert som tekst på [Wikipedia](https://en.wikipedia.org/wiki/ISO_8601)"
   ]
  },
  {
   "cell_type": "markdown",
   "id": "59641a50",
   "metadata": {},
   "source": [
    "Som vi nå har erfart er det lurt å sjekke dokumentasjon på API før bruk, og også vilkår. Les yr sine [Terms of Service her](https://api.met.no/doc/TermsOfService)\n",
    "\n",
    "**Viktige punkter om Yr.no API:**\n",
    "- Du må identifisere applikasjonen din med en \"User-Agent\" header\n",
    "- Du kan ikke sende for mange forespørsler (maks 20 per sekund)\n",
    "- API-et krever geografiske koordinater (bredde- og lengdegrad)"
   ]
  },
  {
   "cell_type": "markdown",
   "id": "78248cf4",
   "metadata": {},
   "source": [
    "## Oppgave 4: Et enkelt kall til locationforecast\n",
    "\n",
    "Siden det er noen verdier vi kommer til å bruke flere ganger videre, kan det være lurt å lagre disse til noen variabler først. \n",
    "\n",
    "Kjør cellen under for at variablene som defineres skal være tilgjengelig senere."
   ]
  },
  {
   "cell_type": "code",
   "execution_count": null,
   "id": "cd8e54cd",
   "metadata": {},
   "outputs": [],
   "source": [
    "# Sett opp korrekte headers for Yr.no API\n",
    "headers = {\n",
    "    'User-Agent': 'TestApp/1.0 (it-test@sanpro.no)'  # Bytt gjerne ut med din e-post\n",
    "}\n",
    "\n",
    "# URL for Yr.no API\n",
    "base_url = \"https://api.met.no/weatherapi/locationforecast/2.0/\"\n",
    "base_url_compact = base_url + \"compact\"\n",
    "base_url_complete = base_url + \"complete\"\n",
    "\n",
    "# Utskrift av base-verdiene\n",
    "print(\"API URL:\", base_url)\n",
    "print(\"API url for compact metoden:\", base_url_compact)\n",
    "print(\"API url for complete metoden:\", base_url_complete)\n",
    "print(\"Headers:\", headers)"
   ]
  },
  {
   "cell_type": "markdown",
   "id": "3397e2c8",
   "metadata": {},
   "source": [
    "_Kjør cellen under for å teste om variablene er satt opp riktig_"
   ]
  },
  {
   "cell_type": "code",
   "execution_count": null,
   "id": "df09fd8b",
   "metadata": {},
   "outputs": [],
   "source": [
    "%%ipytest\n",
    "# Test at variablene er satt opp riktig\n",
    "def test_api_setup():\n",
    "    assert base_url == \"https://api.met.no/weatherapi/locationforecast/2.0/\"\n",
    "    assert base_url_compact == \"https://api.met.no/weatherapi/locationforecast/2.0/compact\"\n",
    "    assert base_url_complete == \"https://api.met.no/weatherapi/locationforecast/2.0/complete\"\n",
    "    assert 'User-Agent' in headers\n",
    "    assert headers['User-Agent'] != 'python-requests/'  # Sjekk at User-Agent er unik"
   ]
  },
  {
   "cell_type": "markdown",
   "id": "c32f5242",
   "metadata": {},
   "source": [
    "Da kan vi gjøre vårt første ordentlige kall til APIet:"
   ]
  },
  {
   "cell_type": "code",
   "execution_count": null,
   "id": "d2d32ba3",
   "metadata": {},
   "outputs": [],
   "source": [
    "\n",
    "# Koordinater for Hana, Sandnes\n",
    "lat = 58.854  # Breddegrad (N-S)\n",
    "long = 5.767  # Lengdegrad (Ø-V)\n",
    "\n",
    "# Bygg URL for API-forespørsel\n",
    "url = f\"{base_url_compact}?lat={lat}&lon={long}\"\n",
    "\n",
    "# Gjennomfør forespørselen\n",
    "response = requests.get(url, headers=headers)\n",
    "print(\"Status kode:\", response.status_code)\n",
    "if response.status_code == 200:\n",
    "    print(\"Respons data (formatert):\")\n",
    "    data = response.json()\n",
    "    print(json.dumps(data, indent=2)[:500], \"...\")  # Print de første 500 tegnene av responsen\n",
    "else:\n",
    "    print(\"Noe gikk galt med forespørselen.\")"
   ]
  },
  {
   "cell_type": "markdown",
   "id": "6028555d",
   "metadata": {},
   "source": [
    "---\n",
    "\n",
    "### Oppgave 4a - Lag din første værdata-forespørsel\n",
    "\n",
    "Velg en lokasjon og hent værdata for denne lokasjonen med et enkelt API-kall. Skriv koden din under. \n",
    "\n",
    "**Lagre responsen i en variabel med navn `response_4a`**\n",
    "\n",
    "_Tips: Bruk google maps til å finne koordinatene_"
   ]
  },
  {
   "cell_type": "code",
   "execution_count": null,
   "id": "2180ebb3",
   "metadata": {},
   "outputs": [],
   "source": [
    "# Skriv din kode her\n",
    "# OBS! Lagre responsen i en variabel med navn response_4a, slik at vi kan bruke den i neste oppgave.\n",
    "\n",
    "\n",
    "# Koordinater for Hana, Sandnes\n",
    "lat = 58.854  # Breddegrad (N-S)\n",
    "long = 5.767  # Lengdegrad (Ø-V)\n",
    "\n",
    "# Bygg URL for API-forespørsel\n",
    "url = f\"{base_url_compact}?lat={lat}&lon={long}\"\n",
    "\n",
    "response_4a = requests.get(url, headers=headers)"
   ]
  },
  {
   "cell_type": "markdown",
   "id": "4ccdcc4d",
   "metadata": {},
   "source": [
    "_Kjør cellen under for å sjekke at du gjorde oppgaven over riktig_"
   ]
  },
  {
   "cell_type": "code",
   "execution_count": null,
   "id": "05fa6c20",
   "metadata": {},
   "outputs": [],
   "source": [
    "%%ipytest\n",
    "\n",
    "def test_response_4a():\n",
    "    assert 'response_4a' in globals(), \"Variabelen response_4a finnes ikke.\"\n",
    "    assert response_4a.status_code == 200, \"Responsen i variabelen response_4a har ikke statuskode 200.\"\n"
   ]
  },
  {
   "cell_type": "markdown",
   "id": "c37e629f",
   "metadata": {},
   "source": [
    "***\n",
    "\n",
    "## Oppgave 5: Utforsk værdata-strukturen\n",
    "\n",
    "Før vi kan bruke dataene, må vi forstå hvordan de er organisert."
   ]
  },
  {
   "cell_type": "code",
   "execution_count": null,
   "id": "6d3b7024",
   "metadata": {},
   "outputs": [],
   "source": [
    "# Konverter til JSON og lagre til fil\n",
    "if response_4a.status_code == 200:\n",
    "    data_task4 = response_4a.json()\n",
    "    with open('weather_data.json', 'w') as f:\n",
    "        json.dump(data_task4, f, indent=2)\n",
    "    print(\"Data lagret til weather_data.json\")\n",
    "else:\n",
    "    print(\"Feil! Respons ugyldig.\")\n",
    "    print(\"Sjekk om du har gjennomført forrige oppgave korrekt, og kjørt cellen.\")\n",
    "    print(\"OG at du har lagret responsen i en variabel med navn response_4a.\")"
   ]
  },
  {
   "cell_type": "markdown",
   "id": "1227b9f1",
   "metadata": {},
   "source": [
    "---\n",
    "\n",
    "### Oppgave 5a\n",
    "\n",
    "Åpne filen `weather_data.json` og se gjennom verdiene. Filen er ganske stor, men du vil se at strukturen gjentas etter 50-100 linjer, så du trenger bare å forstå starten for å skjønne hele innholdet. \n",
    "\n",
    "- Hvilke hovedegenskaper (1. nivå) er det i json-filen? (det skal være tre stk, navngi dem)\n",
    "- Hvilke egenskaper finnes under \"properties\" ?\n",
    "- Hvor finner du de faktiske værdataene i filen?"
   ]
  },
  {
   "cell_type": "markdown",
   "id": "d59709de",
   "metadata": {},
   "source": [
    "_Skriv svaret ditt her_"
   ]
  },
  {
   "cell_type": "markdown",
   "id": "ace60252",
   "metadata": {},
   "source": [
    "***\n",
    "\n",
    "### Oppgave 5b - Se nærmere på strukturen til en enkelt prognose\n",
    "\n",
    "Fullfør funksjonene `get_properties` og `get_timeseries` under. Husk å returnere en verdi som siste linje av funksjonen:\n",
    "\n",
    "```python\n",
    "def get_properties(data_locationforecast=data_task4):\n",
    "    # ... din logikk\n",
    "    return variabel_navn # Returner en verdi til slutt\n",
    "```\n"
   ]
  },
  {
   "cell_type": "code",
   "execution_count": null,
   "id": "d8d9b5c0",
   "metadata": {},
   "outputs": [],
   "source": [
    "def get_properties(data_locationforecast=data_task4):\n",
    "    \"\"\"Hent ut properties fra responsen fra locationforecast compact API-et\"\"\"\n",
    "    pass # Erstatt denne linjen med din kode\n",
    "    return data_locationforecast['properties']\n",
    "\n",
    "def get_timeseries(data_locationforecast=data_task4):\n",
    "    \"\"\"Hent ut prognoser fra responsen fra locationforecast compact API-et.\"\"\"\n",
    "    pass # Erstatt denne linjen med din kode\n",
    "    return data_locationforecast['properties']['timeseries']\n"
   ]
  },
  {
   "cell_type": "markdown",
   "id": "26c3e9f6",
   "metadata": {},
   "source": [
    "Kjør cellen over etter du har fullført funksjonene. Du vil se en grønn hake ✅, men det kommer ingen output. Det er ok, og forventet. \n",
    "\n",
    "Etter du har kjørt cellen over (som laster funksjonsreferansene inn i python-interpreterens minne), kan du bruke testen under for å sjekke om løsningen din er gyldig.\n",
    "\n",
    "_Kjør cellen under for å sjekke løsningen din_"
   ]
  },
  {
   "cell_type": "code",
   "execution_count": null,
   "id": "da9dbdfd",
   "metadata": {},
   "outputs": [],
   "source": [
    "%%ipytest \n",
    "\n",
    "def test_get_properties():\n",
    "    properties = get_properties()\n",
    "    assert isinstance(properties, dict), \"get_properties skal returnere en dictionary.\"\n",
    "    assert 'timeseries' in properties, \"properties skal inneholde nøkkelen 'timeseries'.\"\n",
    "    assert isinstance(properties['timeseries'], list), \"properties['timeseries'] skal være en liste.\"\n",
    "    \n",
    "def test_get_timeseries():\n",
    "    timeseries = get_timeseries()\n",
    "    assert isinstance(timeseries, list), \"get_timeseries skal returnere en liste.\"\n",
    "    assert len(timeseries) > 0, \"get_timeseries skal returnere en ikke-tom liste.\"\n",
    "    first_entry = timeseries[0]\n",
    "    assert 'time' in first_entry, \"Hver entry i timeseries skal inneholde nøkkelen 'time'.\"\n",
    "    assert 'data' in first_entry, \"Hver entry i timeseries skal inneholde nøkkelen 'data'.\"\n"
   ]
  },
  {
   "cell_type": "markdown",
   "id": "d6149d75",
   "metadata": {},
   "source": [
    "***\n",
    "\n",
    "### Oppgave 5c: Utforsk prognosens datastruktur\n",
    "\n",
    "Kjør cellen under og se på utskriften"
   ]
  },
  {
   "cell_type": "code",
   "execution_count": null,
   "id": "8a8557fa",
   "metadata": {},
   "outputs": [],
   "source": [
    "# Utforsk en enkelt prognose i detalj\n",
    "def print_timeseries_keys():\n",
    "    \"\"\"Skriv ut alle nøklene i en enkelt prognose i timeseries-listen\"\"\"\n",
    "    prognoser = get_timeseries()\n",
    "    first_item = prognoser[0]\n",
    "    def print_keys(d, prefix=''):\n",
    "        for key, value in d.items():\n",
    "            print(f\"{prefix}{key}\")\n",
    "            if isinstance(value, dict):\n",
    "                print_keys(value, prefix + '  ')\n",
    "    print_keys(first_item)\n",
    "    \n",
    "print_timeseries_keys()"
   ]
  },
  {
   "cell_type": "markdown",
   "id": "0340b317",
   "metadata": {},
   "source": [
    "__Forklar utskriften over__\n",
    "\n",
    "- Hvilken informasjon finnes i et timeseries objekt?"
   ]
  },
  {
   "cell_type": "markdown",
   "id": "c4ce3cf9",
   "metadata": {},
   "source": [
    "_Skriv ditt svar her_"
   ]
  },
  {
   "cell_type": "markdown",
   "id": "b48aaf2c",
   "metadata": {},
   "source": [
    "***\n",
    "\n",
    "## Oppgave 6: Lag en klasse for værdata\n",
    "\n",
    "Nå som vi forstår datastrukturen, kan vi enklere hente ut data vi ønsker.\n",
    "\n",
    "### Oppgave 6a - Lag en klasse for værdata\n",
    "\n",
    "Lag en klasse, `Prognosis`, som"
   ]
  },
  {
   "cell_type": "markdown",
   "id": "b48aaf2c",
   "metadata": {},
   "source": [
    "***\n",
    "\n",
    "## Oppgave 6: Lag en klasse for værdata\n",
    "\n",
    "Nå som vi forstår datastrukturen, kan vi lage en klasse for å jobbe med værdataene på en enkel måte.\n",
    "\n",
    "### Oppgave 6a - Lag en enkel Prognosis-klasse\n",
    "\n",
    "Lag en klasse `Prognosis` som:\n",
    "- Tar inn et element fra timeseries-listen i konstruktøren\n",
    "- Lagrer `time` som en instansvariabel av typen datetime\n",
    "- Lagrer følgende værdata som instansvariabler med navnene:\n",
    "    - Lufttrykk: `air_pressure`\n",
    "    - Temperatur: `air_temperature`\n",
    "    - Skydekke: `cloud_fraction`\n",
    "    - Fuktighet: `humidity`\n",
    "    - Vindretning: `wind_direction`\n",
    "    - Vindhastighet: `wind_speed`\n",
    "\n",
    "**Eksempel på bruk:**\n",
    "```python\n",
    "prognoser = get_timeseries()\n",
    "første_prognose = Prognosis(prognoser[0])\n",
    "print(første_prognose.time)  # Skriver ut tidspunktet\n",
    "```"
   ]
  },
  {
   "cell_type": "code",
   "execution_count": null,
   "id": "a1b2c3d4",
   "metadata": {},
   "outputs": [],
   "source": [
    "class Prognosis:\n",
    "    \"\"\"Klasse for å representere en værprognose fra Yr.no API\"\"\"\n",
    "    \n",
    "    def __init__(self, timeseries_entry):\n",
    "        \"\"\"Initialiserer en Prognosis-instans fra et timeseries-objekt\"\"\"\n",
    "        pass  # Erstatt denne linjen med din kode\n",
    "        self.time = datetime.fromisoformat(timeseries_entry['time'])\n",
    "        self.air_pressure = timeseries_entry['data']['instant']['details'].get('air_pressure_at_sea_level')\n",
    "        self.air_temperature = timeseries_entry['data']['instant']['details'].get('air_temperature')\n",
    "        self.cloud_fraction = timeseries_entry['data']['instant']['details'].get('cloud_fraction')\n",
    "        self.humidity = timeseries_entry['data']['instant']['details'].get('relative_humidity')\n",
    "        self.wind_direction = timeseries_entry['data']['instant']['details'].get('wind_from_direction')\n",
    "        self.wind_speed = timeseries_entry['data']['instant']['details'].get('wind_speed')\n"
   ]
  },
  {
   "cell_type": "markdown",
   "id": "test_6a_md",
   "metadata": {},
   "source": [
    "_Kjør cellen under for å teste klassen din_"
   ]
  },
  {
   "cell_type": "code",
   "execution_count": null,
   "id": "test_6a",
   "metadata": {},
   "outputs": [],
   "source": [
    "%%ipytest\n",
    "\n",
    "def test_prognosis_init():\n",
    "    prognoser = get_timeseries()\n",
    "    prognose = Prognosis(prognoser[0])\n",
    "    \n",
    "    assert isinstance(prognose.time, datetime), \"prognose.time skal være av typen datetime.\"\n",
    "    assert isinstance(prognose.air_pressure, (float, type(None))), \"prognose.air_pressure skal være float eller None.\"\n",
    "    assert isinstance(prognose.air_temperature, (float, type(None))), \"prognose.air_temperature skal være float eller None.\"\n",
    "    assert isinstance(prognose.cloud_fraction, (float, type(None))), \"prognose.cloud_fraction skal være float eller None.\"\n",
    "    assert isinstance(prognose.humidity, (float, type(None))), \"prognose.humidity skal være float eller None.\"\n",
    "    assert isinstance(prognose.wind_direction, (float, type(None))), \"prognose.wind_direction skal være float eller None.\"\n",
    "    assert isinstance(prognose.wind_speed, (float, type(None))), \"prognose.wind_speed skal være float eller None.\"\n"
   ]
  },
  {
   "cell_type": "markdown",
   "id": "590ecdb1",
   "metadata": {},
   "source": [
    "***\n",
    "\n",
    "### Oppgave 6b - bruk Prognosis\n",
    "\n",
    "Bruk klassen du lagde, `Prognosis`, til å holde værdata hentet fra API. Bruk `get_timeseries()` for å hente en tidsserie, og last den første prognosen inn i et nytt `Prognosis` objekt med variabelnavn `first_prognosis`"
   ]
  },
  {
   "cell_type": "code",
   "execution_count": null,
   "id": "48914f52",
   "metadata": {},
   "outputs": [],
   "source": [
    "time_series = get_timeseries()\n",
    "first_element = time_series[0]\n",
    "first_prognosis = Prognosis(first_element)"
   ]
  },
  {
   "cell_type": "markdown",
   "id": "d3543a8a",
   "metadata": {},
   "source": [
    "_Kjør cellen under for å sjekke svaret ditt_"
   ]
  },
  {
   "cell_type": "code",
   "execution_count": null,
   "id": "f6633629",
   "metadata": {},
   "outputs": [],
   "source": [
    "%%ipytest\n",
    "\n",
    "def test_first_prognosis():\n",
    "    assert isinstance(first_prognosis, Prognosis), \"first_prognosis skal være en instans av Prognosis.\"\n",
    "    expected_timestamp = datetime.fromisoformat(get_timeseries()[0]['time'])\n",
    "    assert first_prognosis.time == expected_timestamp, \"first_prognosis.time har ikke riktig verdi.\""
   ]
  },
  {
   "cell_type": "markdown",
   "id": "ec08d97b",
   "metadata": {},
   "source": [
    "Bruk `first_prognosis` for å skrive ut (print) temperatur og vindhastighet"
   ]
  },
  {
   "cell_type": "code",
   "execution_count": null,
   "id": "cb747963",
   "metadata": {},
   "outputs": [],
   "source": [
    "def print_weather_info():\n",
    "    \"\"\"Skriv ut temperatur og vindhastighet fra en Prognosis-instans\"\"\"\n",
    "    pass # Erstatt denne linjen med din kode\n",
    "    print(f\"Temperatur: {first_prognosis.air_temperature} °C\")\n",
    "    print(f\"Vindhastighet: {first_prognosis.wind_speed} m/s\")\n",
    "\n",
    "print_weather_info()"
   ]
  },
  {
   "cell_type": "code",
   "execution_count": null,
   "id": "30677ef9",
   "metadata": {},
   "outputs": [],
   "source": [
    "%%ipytest\n",
    "\n",
    "def test_print_weather_info(capsys):\n",
    "    print_weather_info()\n",
    "    captured = capsys.readouterr()\n",
    "    prognosis = get_timeseries()[0]['data']['instant']['details']\n",
    "    assert str(prognosis['air_temperature']) in captured.out, \"Temperaturdata mangler i utskriften.\"\n",
    "    assert str(prognosis['wind_speed']) in captured.out, \"Vindhastighetsdata mangler i utskriften.\""
   ]
  },
  {
   "cell_type": "markdown",
   "id": "oppg_6b",
   "metadata": {},
   "source": [
    "---\n",
    "\n",
    "### Oppgave 6c - Lag en enkel Timeseries-klasse\n",
    "\n"
   ]
  },
  {
   "cell_type": "code",
   "execution_count": null,
   "id": "impl_6b",
   "metadata": {},
   "outputs": [],
   "source": [
    "class Timeseries:\n",
    "    \"\"\"Klasse for å representere en tidsserie fra Yr.no API\"\"\"\n",
    "    \n",
    "    def __init__(self, timeseries):\n",
    "        \"\"\"Initialiserer en Timeseries-instans fra et timeseries-objekt\"\"\"\n",
    "        self.entries = [Prognosis(entry) for entry in timeseries['properties']['timeseries']]\n",
    "    \n",
    "    def get_temperature(self):\n",
    "        \"\"\"Henter lufttemperatur i celsius\"\"\"\n",
    "        pass  # Erstatt denne linjen med din kode\n",
    "    \n",
    "    def get_wind_speed(self):\n",
    "        \"\"\"Henter vindhastighet i m/s\"\"\"\n",
    "        pass  # Erstatt denne linjen med din kode\n"
   ]
  },
  {
   "cell_type": "markdown",
   "id": "test_6b_md",
   "metadata": {},
   "source": [
    "_Kjør cellen under for å teste metodene dine_"
   ]
  },
  {
   "cell_type": "code",
   "execution_count": null,
   "id": "test_6b",
   "metadata": {},
   "outputs": [],
   "source": [
    "%%ipytest\n",
    "\n",
    "def test_prognosis_methods():\n",
    "    prognoser = get_timeseries()\n",
    "    prognose = Prognosis(prognoser[0])\n",
    "    \n",
    "    # Test at metodene returnerer tall\n",
    "    temp = prognose.get_temperature()\n",
    "    wind = prognose.get_wind_speed()\n",
    "    \n",
    "    assert isinstance(temp, (int, float)), \"get_temperature() skal returnere et tall\"\n",
    "    assert isinstance(wind, (int, float)), \"get_wind_speed() skal returnere et tall\"\n",
    "    \n",
    "    # Test at verdiene er rimelige\n",
    "    assert -50 < temp < 50, \"Temperatur skal være mellom -50 og 50°C\"\n",
    "    assert 0 <= wind < 100, \"Vindhastighet skal være mellom 0 og 100 m/s\"\n"
   ]
  },
  {
   "cell_type": "markdown",
   "id": "demo_6b",
   "metadata": {},
   "source": [
    "---\n",
    "\n",
    "La oss teste klassen vår med ekte data:"
   ]
  },
  {
   "cell_type": "code",
   "execution_count": null,
   "id": "demo_6b_code",
   "metadata": {},
   "outputs": [],
   "source": [
    "# Hent prognoser og lag Prognosis-objekter\n",
    "prognoser = get_timeseries()\n",
    "\n",
    "# Vis de 5 første prognosene\n",
    "print(\"De 5 første værmeldingene:\\n\")\n",
    "for i in range(5):\n",
    "    p = Prognosis(prognoser[i])\n",
    "    print(f\"{p.time}: {p.get_temperature()}°C, vind {p.get_wind_speed()} m/s\")"
   ]
  },
  {
   "cell_type": "markdown",
   "id": "oppg_6c",
   "metadata": {},
   "source": [
    "---\n",
    "\n",
    "### Oppgave 6c - Finn høyeste og laveste temperatur\n",
    "\n",
    "Skriv kode som:\n",
    "1. Går gjennom alle prognoser i timeseries\n",
    "2. Finner den høyeste temperaturen\n",
    "3. Finner den laveste temperaturen\n",
    "4. Skriver ut resultatene\n",
    "\n",
    "**Tips:** Bruk en løkke og to variabler for å holde styr på min og max temperatur."
   ]
  },
  {
   "cell_type": "code",
   "execution_count": null,
   "id": "impl_6c",
   "metadata": {},
   "outputs": [],
   "source": [
    "# Skriv din kode her\n",
    "prognoser = get_timeseries()\n",
    "\n",
    "# Initialiser variabler for å holde styr på min/max\n",
    "# ... din kode\n",
    "\n",
    "# Gå gjennom alle prognoser\n",
    "# ... din kode\n",
    "\n",
    "# Skriv ut resultatet\n",
    "# ... din kode\n"
   ]
  },
  {
   "cell_type": "markdown",
   "id": "oppg_7",
   "metadata": {},
   "source": [
    "***\n",
    "\n",
    "## Oppgave 7: Visualiser værdata med pandas\n",
    "\n",
    "Nå skal vi bruke pandas til å analysere og visualisere værdataene på en mer strukturert måte.\n",
    "\n",
    "### Oppgave 7a - Lag en DataFrame med værdata\n",
    "\n",
    "Lag en pandas DataFrame som inneholder:\n",
    "- Tidspunkt (time)\n",
    "- Temperatur (temperature)\n",
    "- Vindhastighet (wind_speed)\n",
    "\n",
    "**Tips:** Bruk en liste med dictionaries og `pd.DataFrame()`"
   ]
  },
  {
   "cell_type": "code",
   "execution_count": null,
   "id": "impl_7a",
   "metadata": {},
   "outputs": [],
   "source": [
    "# Lag en liste med værdata\n",
    "prognoser = get_timeseries()\n",
    "weather_data = []\n",
    "\n",
    "for entry in prognoser:\n",
    "    p = Prognosis(entry)\n",
    "    weather_data.append({\n",
    "        'time': p.time,\n",
    "        'temperature': p.get_temperature(),\n",
    "        'wind_speed': p.get_wind_speed()\n",
    "    })\n",
    "\n",
    "# Lag DataFrame\n",
    "df = pd.DataFrame(weather_data)\n",
    "\n",
    "# Konverter time til datetime\n",
    "df['time'] = pd.to_datetime(df['time'])\n",
    "\n",
    "# Vis de første radene\n",
    "print(df.head())\n",
    "print(f\"\\nAntall prognoser: {len(df)}\")"
   ]
  },
  {
   "cell_type": "markdown",
   "id": "oppg_7b",
   "metadata": {},
   "source": [
    "---\n",
    "\n",
    "### Oppgave 7b - Grunnleggende statistikk\n",
    "\n",
    "Bruk pandas' innebygde metoder til å finne:\n",
    "- Gjennomsnittstemperatur\n",
    "- Gjennomsnittlig vindhastighet\n",
    "- Minimum og maksimum temperatur"
   ]
  },
  {
   "cell_type": "code",
   "execution_count": null,
   "id": "impl_7b",
   "metadata": {},
   "outputs": [],
   "source": [
    "# Skriv din kode her for å finne statistikk\n",
    "\n",
    "# Tips: Bruk df.describe() eller df['kolonnenavn'].mean(), df['kolonnenavn'].min(), etc.\n"
   ]
  },
  {
   "cell_type": "markdown",
   "id": "oppg_7b_q",
   "metadata": {},
   "source": [
    "**Spørsmål:**\n",
    "- Hva er gjennomsnittstemperaturen for de neste dagene?\n",
    "- Hva er den høyeste og laveste temperaturen som er meldt?"
   ]
  },
  {
   "cell_type": "markdown",
   "id": "answer_7b",
   "metadata": {},
   "source": [
    "_Skriv svaret ditt her_"
   ]
  },
  {
   "cell_type": "markdown",
   "id": "end",
   "metadata": {},
   "source": [
    "***\n",
    "\n",
    "## Gratulerer! 🎉\n",
    "\n",
    "Du har nå:\n",
    "- Lært hvordan man bruker et REST API\n",
    "- Jobbet med JSON-data\n",
    "- Laget en klasse for å strukturere data\n",
    "- Brukt pandas til dataanalyse\n",
    "\n",
    "### Bonusoppgaver (valgfritt)\n",
    "\n",
    "Hvis du vil utfordre deg selv videre, prøv å:\n",
    "1. Legge til flere metoder i Prognosis-klassen (f.eks. `get_humidity()`, `get_precipitation()`)\n",
    "2. Lage et plott av temperatur over tid ved hjelp av matplotlib eller plotly\n",
    "3. Sammenligne været for flere forskjellige lokasjoner\n",
    "4. Hente data fra Yr sitt `complete` API i stedet for `compact` og se hva som er forskjellen"
   ]
  },
  {
   "cell_type": "markdown",
   "metadata": {},
   "source": [
    "## Oppgave 6: Hent værprognose for flere timer\n",
    "\n",
    "API-et gir oss prognoser for mange timer fremover. La oss lage en funksjon som henter prognoser for de neste timene."
   ]
  },
  {
   "cell_type": "code",
   "execution_count": null,
   "metadata": {},
   "outputs": [],
   "source": [
    "def get_hourly_forecast(lat, lon, hours=12):\n",
    "    \"\"\"\n",
    "    Henter timesprognose for de neste X timene.\n",
    "    \n",
    "    Args:\n",
    "        lat (float): Breddegrad\n",
    "        lon (float): Lengdegrad\n",
    "        hours (int): Antall timer å hente prognose for\n",
    "    \n",
    "    Returns:\n",
    "        list: Liste med værprognoser\n",
    "    \"\"\"\n",
    "    \n",
    "    headers = {'User-Agent': 'VærApp-Student/1.0 (student@skole.no)'}\n",
    "    url = f\"https://api.met.no/weatherapi/locationforecast/2.0/compact?lat={lat}&lon={lon}\"\n",
    "    \n",
    "    try:\n",
    "        response = requests.get(url, headers=headers, timeout=10)\n",
    "        \n",
    "        if response.status_code != 200:\n",
    "            print(f\"API-feil: Status {response.status_code}\")\n",
    "            return []\n",
    "        \n",
    "        data = response.json()\n",
    "        timeseries = data['properties']['timeseries']\n",
    "        \n",
    "        forecast = []\n",
    "        \n",
    "        # Gå gjennom de første 'hours' prognosene\n",
    "        for i, entry in enumerate(timeseries[:hours]):\n",
    "            try:\n",
    "                instant_data = entry['data']['instant']['details']\n",
    "                \n",
    "                forecast_entry = {\n",
    "                    'tidspunkt': entry['time'],\n",
    "                    'temperatur': instant_data['air_temperature'],\n",
    "                    'luftfuktighet': instant_data['relative_humidity'],\n",
    "                    'vindhastighet': instant_data['wind_speed']\n",
    "                }\n",
    "                \n",
    "                forecast.append(forecast_entry)\n",
    "                \n",
    "            except KeyError:\n",
    "                # Noen tidspunkter kan mangle data\n",
    "                continue\n",
    "        \n",
    "        return forecast\n",
    "        \n",
    "    except Exception as e:\n",
    "        print(f\"Feil ved henting av prognose: {e}\")\n",
    "        return []\n",
    "\n",
    "# Test funksjonen\n",
    "oslo_forecast = get_hourly_forecast(59.9139, 10.7522, 8)\n",
    "\n",
    "if oslo_forecast:\n",
    "    print(\"📊 8-timers prognose for Oslo:\")\n",
    "    \n",
    "    # Konverter til DataFrame for pen visning\n",
    "    df = pd.DataFrame(oslo_forecast)\n",
    "    \n",
    "    # Forenkle tidspunkt-visning\n",
    "    df['tid'] = pd.to_datetime(df['tidspunkt']).dt.strftime('%H:%M')\n",
    "    \n",
    "    # Vis de første prognosene\n",
    "    print(df[['tid', 'temperatur', 'luftfuktighet', 'vindhastighet']].head(8).to_string(index=False))\n",
    "else:\n",
    "    print(\"❌ Kunne ikke hente værprognose\")"
   ]
  },
  {
   "cell_type": "markdown",
   "metadata": {},
   "source": [
    "**Oppgave 6a:** Finn temperatur-ekstremene i prognosen"
   ]
  },
  {
   "cell_type": "code",
   "execution_count": null,
   "metadata": {},
   "outputs": [],
   "source": [
    "# Analyser temperaturen i prognosen\n",
    "if oslo_forecast:\n",
    "    temperatures = [entry['temperatur'] for entry in oslo_forecast]\n",
    "    \n",
    "    min_temp = min(temperatures)\n",
    "    max_temp = max(temperatures)\n",
    "    avg_temp = sum(temperatures) / len(temperatures)\n",
    "    \n",
    "    print(f\"🌡️ Temperaturanalyse for de neste {len(oslo_forecast)} timene:\")\n",
    "    print(f\"Laveste: {min_temp}°C\")\n",
    "    print(f\"Høyeste: {max_temp}°C\")\n",
    "    print(f\"Gjennomsnitt: {avg_temp:.1f}°C\")\n",
    "    print(f\"Temperaturspenn: {max_temp - min_temp}°C\")"
   ]
  },
  {
   "cell_type": "markdown",
   "metadata": {},
   "source": [
    "## Oppgave 7: Sammenlign været i flere byer\n",
    "\n",
    "La oss bruke funksjonene våre til å sammenligne været i flere norske byer."
   ]
  },
  {
   "cell_type": "code",
   "execution_count": null,
   "metadata": {},
   "outputs": [],
   "source": [
    "# Definer koordinater for norske byer\n",
    "norske_byer = {\n",
    "    'Oslo': (59.9139, 10.7522),\n",
    "    'Bergen': (60.3913, 5.3221),\n",
    "    'Trondheim': (63.4305, 10.3951),\n",
    "    'Stavanger': (58.9700, 5.7331),\n",
    "    'Tromsø': (69.6492, 18.9553)\n",
    "}\n",
    "\n",
    "# Hent værdata for alle byene\n",
    "by_weather = []\n",
    "\n",
    "print(\"🌍 Henter værdata for norske byer...\")\n",
    "\n",
    "for by_navn, (lat, lon) in norske_byer.items():\n",
    "    print(f\"  Henter data for {by_navn}...\")\n",
    "    \n",
    "    weather = get_current_weather(lat, lon)\n",
    "    \n",
    "    if weather:\n",
    "        weather['by'] = by_navn\n",
    "        by_weather.append(weather)\n",
    "    else:\n",
    "        print(f\"    ⚠️ Kunne ikke hente data for {by_navn}\")\n",
    "\n",
    "# Vis resultatene\n",
    "if by_weather:\n",
    "    print(\"\\n🌤️ Værsammenligning:\")\n",
    "    \n",
    "    # Konverter til DataFrame\n",
    "    df = pd.DataFrame(by_weather)\n",
    "    \n",
    "    # Vis relevante kolonner\n",
    "    weather_table = df[['by', 'temperatur_celsius', 'luftfuktighet_prosent', 'vindhastighet_ms']].round(1)\n",
    "    weather_table.columns = ['By', 'Temperatur (°C)', 'Luftfuktighet (%)', 'Vind (m/s)']\n",
    "    \n",
    "    print(weather_table.to_string(index=False))\n",
    "    \n",
    "    # Finn ekstremene\n",
    "    varmeste_idx = df['temperatur_celsius'].idxmax()\n",
    "    kaldeste_idx = df['temperatur_celsius'].idxmin()\n",
    "    \n",
    "    print(f\"\\n🔥 Varmeste by: {df.loc[varmeste_idx, 'by']} ({df.loc[varmeste_idx, 'temperatur_celsius']}°C)\")\n",
    "    print(f\"🧊 Kaldeste by: {df.loc[kaldeste_idx, 'by']} ({df.loc[kaldeste_idx, 'temperatur_celsius']}°C)\")\n",
    "else:\n",
    "    print(\"❌ Kunne ikke hente værdata for noen byer\")"
   ]
  },
  {
   "cell_type": "markdown",
   "metadata": {},
   "source": [
    "**Oppgave 7a:** Finn byen med høyest vindhastighet"
   ]
  },
  {
   "cell_type": "code",
   "execution_count": null,
   "metadata": {},
   "outputs": [],
   "source": [
    "# Din kode her:\n",
    "# Finn byen med høyest vindhastighet\n",
    "if by_weather:\n",
    "    # vindigste_idx = df['vindhastighet_ms'].idxmax()\n",
    "    # print(f\"💨 Vindigste by: {df.loc[vindigste_idx, 'by']} ({df.loc[vindigste_idx, 'vindhastighet_ms']} m/s)\")\n",
    "    pass"
   ]
  },
  {
   "cell_type": "markdown",
   "metadata": {},
   "source": [
    "## Oppgave 8: Avansert - Daglig værsammendrag\n",
    "\n",
    "La oss lage en funksjon som gir oss et sammendrag av været for de neste dagene."
   ]
  },
  {
   "cell_type": "code",
   "execution_count": null,
   "metadata": {},
   "outputs": [],
   "source": [
    "def get_daily_summary(lat, lon, days=3):\n",
    "    \"\"\"\n",
    "    Henter daglig værsammendrag for de neste dagene.\n",
    "    \n",
    "    Args:\n",
    "        lat (float): Breddegrad\n",
    "        lon (float): Lengdegrad\n",
    "        days (int): Antall dager\n",
    "    \n",
    "    Returns:\n",
    "        DataFrame: Daglig værsammendrag\n",
    "    \"\"\"\n",
    "    \n",
    "    # Hent prognose for mange timer (24 timer * antall dager)\n",
    "    forecast = get_hourly_forecast(lat, lon, hours=days * 24)\n",
    "    \n",
    "    if not forecast:\n",
    "        return None\n",
    "    \n",
    "    # Konverter til DataFrame\n",
    "    df = pd.DataFrame(forecast)\n",
    "    \n",
    "    # Legg til dato-kolonne\n",
    "    df['datetime'] = pd.to_datetime(df['tidspunkt'])\n",
    "    df['dato'] = df['datetime'].dt.date\n",
    "    \n",
    "    # Gruppér etter dag og beregn statistikk\n",
    "    daily_summary = df.groupby('dato').agg({\n",
    "        'temperatur': ['min', 'max', 'mean'],\n",
    "        'luftfuktighet': 'mean',\n",
    "        'vindhastighet': ['mean', 'max']\n",
    "    }).round(1)\n",
    "\n",
    "    # Forenkle kolonnenavn\n",
    "    daily_summary.columns = [\n",
    "        'Min_temp', 'Max_temp', 'Snitt_temp',\n",
    "        'Snitt_luftfuktighet', 'Snitt_vind', 'Max_vind'\n",
    "    ]\n",
    "\n",
    "    return daily_summary\n",
    "\n",
    "# Test funksjonen for Oslo\n",
    "print(\"📅 3-dagers værsammendrag for Oslo:\")\n",
    "oslo_summary = get_daily_summary(59.9139, 10.7522, 3)\n",
    "\n",
    "if oslo_summary is not None:\n",
    "    print(oslo_summary)\n",
    "\n",
    "    print(f\"📊 Analyse:\")\n",
    "    print(f\"Varmeste dag: {oslo_summary['Max_temp'].max()}°C\")\n",
    "    print(f\"Kaldeste dag: {oslo_summary['Min_temp'].min()}°C\")\n",
    "    print(f\"Største temperaturspenn på en dag: {(oslo_summary['Max_temp'] - oslo_summary['Min_temp']).max()}°C\")\n",
    "else:\n",
    "    print(\"❌ Kunne ikke hente daglig sammendrag\")\n"
   ]
  },
  {
   "cell_type": "markdown",
   "metadata": {},
   "source": [
    "## Bonusoppgaver\n",
    "\n",
    "Hvis du har kommet så langt, kan du prøve disse utfordringsoppgavene!"
   ]
  },
  {
   "cell_type": "markdown",
   "metadata": {},
   "source": [
    "### Bonusoppgave 1: Lag en værvarsel-klasse\n",
    "\n",
    "Organiser funksjonaliteten i en Python-klasse for bedre struktur."
   ]
  },
  {
   "cell_type": "code",
   "execution_count": null,
   "metadata": {},
   "outputs": [],
   "source": [
    "class WeatherAPI:\n",
    "    \"\"\"Klasse for å hente værdata fra Yr.no API\"\"\"\n",
    "    \n",
    "    def __init__(self, user_agent=\"VærApp-Student/1.0 (student@skole.no)\"):\n",
    "        self.base_url = \"https://api.met.no/weatherapi/locationforecast/2.0/compact\"\n",
    "        self.headers = {'User-Agent': user_agent}\n",
    "    \n",
    "    def _make_request(self, lat, lon):\n",
    "        \"\"\"Hjelpemetode for å gjøre API-forespørsel\"\"\"\n",
    "        url = f\"{self.base_url}?lat={lat}&lon={lon}\"\n",
    "        \n",
    "        try:\n",
    "            response = requests.get(url, headers=self.headers, timeout=10)\n",
    "            response.raise_for_status()  # Kaster exception ved HTTP-feil\n",
    "            return response.json()\n",
    "        except requests.exceptions.RequestException as e:\n",
    "            print(f\"API-feil: {e}\")\n",
    "            return None\n",
    "    \n",
    "    def get_current_weather(self, lat, lon):\n",
    "        \"\"\"Hent nåværende vær\"\"\"\n",
    "        # Implementer denne metoden\n",
    "        # Din kode her:\n",
    "        pass\n",
    "    \n",
    "    def get_forecast(self, lat, lon, hours=12):\n",
    "        \"\"\"Hent timesprognose\"\"\"\n",
    "        # Implementer denne metoden\n",
    "        # Din kode her:\n",
    "        pass\n",
    "\n",
    "# Test klassen din\n",
    "# weather_api = WeatherAPI()\n",
    "# weather = weather_api.get_current_weather(59.9139, 10.7522)\n",
    "# print(weather)"
   ]
  },
  {
   "cell_type": "markdown",
   "metadata": {},
   "source": [
    "### Bonusoppgave 2: Robust feilhåndtering\n",
    "\n",
    "Implementer en funksjon som prøver på nytt hvis API-et ikke svarer."
   ]
  },
  {
   "cell_type": "code",
   "execution_count": null,
   "metadata": {},
   "outputs": [],
   "source": [
    "import time\n",
    "\n",
    "def robust_weather_request(lat, lon, max_retries=3, delay=1):\n",
    "    \"\"\"\n",
    "    Robust API-forespørsel med retry-logikk.\n",
    "    \n",
    "    Args:\n",
    "        lat, lon: Koordinater\n",
    "        max_retries: Maksimalt antall forsøk\n",
    "        delay: Sekunder å vente mellom forsøk\n",
    "    \"\"\"\n",
    "    \n",
    "    for attempt in range(max_retries):\n",
    "        try:\n",
    "            print(f\"Forsøk {attempt + 1}/{max_retries}...\")\n",
    "            \n",
    "            # Din kode her:\n",
    "            # Implementer logikk som:\n",
    "            # 1. Prøver å hente data\n",
    "            # 2. Returnerer data hvis vellykket\n",
    "            # 3. Venter 'delay' sekunder og prøver igjen ved feil\n",
    "            # 4. Gir opp etter max_retries forsøk\n",
    "            \n",
    "            pass\n",
    "            \n",
    "        except Exception as e:\n",
    "            print(f\"Forsøk {attempt + 1} feilet: {e}\")\n",
    "            \n",
    "            if attempt < max_retries - 1:\n",
    "                print(f\"Venter {delay} sekunder før nytt forsøk...\")\n",
    "                time.sleep(delay)\n",
    "            else:\n",
    "                print(\"Alle forsøk feilet!\")\n",
    "                return None\n",
    "\n",
    "# Test funksjonen\n",
    "# robust_data = robust_weather_request(59.9139, 10.7522)\n",
    "# print(robust_data)"
   ]
  },
  {
   "cell_type": "markdown",
   "metadata": {},
   "source": [
    "### Bonusoppgave 3: Værvarsel med nedbør\n",
    "\n",
    "Yr.no API-et inneholder også informasjon om nedbør. Utforsk datastrukturen og hent ut nedbørsprognoser."
   ]
  },
  {
   "cell_type": "code",
   "execution_count": null,
   "metadata": {},
   "outputs": [],
   "source": [
    "# Utforsk 'next_1_hours' og 'next_6_hours' data\n",
    "# Disse inneholder nedbørsprognoser\n",
    "\n",
    "def get_precipitation_forecast(lat, lon):\n",
    "    \"\"\"Hent nedbørsprognose for de neste timene\"\"\"\n",
    "    \n",
    "    # Din kode her:\n",
    "    # Tips: Se på 'next_1_hours' og 'next_6_hours' i datastrukturen\n",
    "    # Disse inneholder 'precipitation_amount' og 'precipitation_amount_max'\n",
    "    \n",
    "    pass\n",
    "\n",
    "# Test funksjonen\n",
    "# precipitation = get_precipitation_forecast(59.9139, 10.7522)\n",
    "# print(precipitation)"
   ]
  },
  {
   "cell_type": "markdown",
   "metadata": {},
   "source": [
    "## Refleksjonsspørsmål\n",
    "\n",
    "Ta deg tid til å tenke over det du har lært:\n",
    "\n",
    "1. **API-forståelse**: Hva er forskjellen mellom et API og en vanlig nettside?\n",
    "\n",
    "2. **Feilhåndtering**: Hvorfor er det viktig å håndtere feil når man arbeider med API-er?\n",
    "\n",
    "3. **Datastruktur**: Yr.no returnerer mye data. Hvordan bestemte du hvilke verdier som var viktigst å hente ut?\n",
    "\n",
    "4. **Etikk**: Hvilke etiske hensyn bør man ta når man bruker andres API-er?\n",
    "\n",
    "5. **Utvidelser**: Hvilke andre funksjoner kunne du tenke deg å legge til i en værapp?\n",
    "\n",
    "Skriv ned tankene dine i cellen under:"
   ]
  },
  {
   "cell_type": "markdown",
   "metadata": {},
   "source": [
    "**Mine refleksjoner:**\n",
    "\n",
    "<!-- Skriv dine tanker her -->\n",
    "\n"
   ]
  },
  {
   "cell_type": "markdown",
   "metadata": {},
   "source": [
    "## Oppsummering\n",
    "\n",
    "🎉 **Gratulerer! Du har nå lært:**\n",
    "\n",
    "✅ **REST API-konsepter**\n",
    "- Hva et API er og hvordan det fungerer\n",
    "- HTTP-metoder (GET, POST, etc.)\n",
    "- Status koder (200, 404, etc.)\n",
    "\n",
    "✅ **requests-biblioteket**\n",
    "- Gjøre HTTP-forespørsler\n",
    "- Håndtere JSON-data\n",
    "- Sette headers og parametere\n",
    "\n",
    "✅ **Yr.no API**\n",
    "- Hente værdata for spesifikke koordinater\n",
    "- Forstå komplekse datastrukturer\n",
    "- Hente både nåværende vær og prognoser\n",
    "\n",
    "✅ **Databehandling**\n",
    "- Pakke ut relevant informasjon fra API-svar\n",
    "- Sammenligne data fra flere kilder\n",
    "- Lage sammendrag og statistikk\n",
    "\n",
    "✅ **Feilhåndtering**\n",
    "- Try/except blokker\n",
    "- Håndtere nettverksfeil\n",
    "- Validere data\n",
    "\n",
    "### Neste steg i læringen:\n",
    "\n",
    "🔗 **Utforsk andre API-er:**\n",
    "- [JSONPlaceholder](https://jsonplaceholder.typicode.com/) - Test-API\n",
    "- [OpenWeatherMap](https://openweathermap.org/api) - Alternativt vær-API\n",
    "- [REST Countries](https://restcountries.com/) - Landeinformasjon\n",
    "\n",
    "📚 **Lær mer om:**\n",
    "- API-autentisering (API-nøkler, OAuth)\n",
    "- GraphQL (alternativ til REST)\n",
    "- Rate limiting og caching\n",
    "- Asynkron programmering med `asyncio`\n",
    "\n",
    "🛠️ **Prosjektideer:**\n",
    "- Bygg en værapp med grafisk brukergrensesnitt\n",
    "- Lag en bot som sender daglige værmeldinger\n",
    "- Kombiner flere API-er (vær + kart + nyheter)\n",
    "- Lag en værlogger som lagrer data i en database\n",
    "\n",
    "### Viktige ressurser:\n",
    "\n",
    "- 📖 [Requests dokumentasjon](https://docs.python-requests.org/)\n",
    "- 🌤️ [Yr.no API dokumentasjon](https://api.met.no/weatherapi/)\n",
    "- 🔧 [HTTP statuskoder](https://httpstatuses.com/)\n",
    "- 📊 [Pandas dokumentasjon](https://pandas.pydata.org/docs/)\n",
    "\n",
    "**Lykke til med videre utforskning av API-verdenen! 🚀**"
   ]
  }
 ],
 "metadata": {
  "kernelspec": {
   "display_name": ".venv",
   "language": "python",
   "name": "python3"
  },
  "language_info": {
   "codemirror_mode": {
    "name": "ipython",
    "version": 3
   },
   "file_extension": ".py",
   "mimetype": "text/x-python",
   "name": "python",
   "nbconvert_exporter": "python",
   "pygments_lexer": "ipython3",
   "version": "3.12.8"
  }
 },
 "nbformat": 4,
 "nbformat_minor": 5
}
